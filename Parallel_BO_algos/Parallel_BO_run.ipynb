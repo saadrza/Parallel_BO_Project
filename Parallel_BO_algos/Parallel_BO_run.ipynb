{
 "cells": [
  {
   "cell_type": "code",
   "execution_count": 1,
   "metadata": {},
   "outputs": [],
   "source": [
    "import numpy as np\n",
    "from scipy.optimize import Bounds, NonlinearConstraint\n",
    "import sklearn.gaussian_process as gpr\n",
    "import time\n",
    "import RXTR_SYSTEM\n",
    "from joblib import Parallel, delayed\n",
    "\n",
    "import sys\n",
    "sys.path.append('./../../BO_algos')\n",
    "import Parallel_Algos as BO_algos\n",
    "\n",
    "import warnings\n",
    "from sklearn.exceptions import ConvergenceWarning\n",
    "warnings.simplefilter('ignore', RuntimeWarning)\n",
    "warnings.simplefilter('ignore', ConvergenceWarning)"
   ]
  },
  {
   "cell_type": "code",
   "execution_count": 83,
   "metadata": {},
   "outputs": [],
   "source": [
    "# Define Parameters\n",
    "exp_w = 2.6\n",
    "C0varf = np.loadtxt('C_var_gp.txt')\n",
    "FR = np.array([0.100, 0.075, 0.075])\n",
    "R_Frac = 1e-6\n",
    "ub = np.array([423, 423])\n",
    "lb = np.array([303, 303])\n",
    "bounds = Bounds((0, 0), (1, 1))\n",
    "dim = len(ub)\n",
    "kernel = gpr.kernels.Matern((1, 1), ((0.06, 5), (0.06, 5)), nu = 2.5)"
   ]
  },
  {
   "cell_type": "code",
   "execution_count": 85,
   "metadata": {},
   "outputs": [
    {
     "name": "stdout",
     "output_type": "stream",
     "text": [
      "Calculation of reaction model weights...\n",
      "2.9305176734924316\n"
     ]
    }
   ],
   "source": [
    "# Set system and reference functions\n",
    "SYST_RECYCLE = RXTR_SYSTEM.SYST_RECYCLE\n",
    "SYST_RECYCLE_REF = RXTR_SYSTEM.RXTR_REG()"
   ]
  },
  {
   "cell_type": "code",
   "execution_count": 43,
   "metadata": {},
   "outputs": [],
   "source": [
    "# Train reference model (GP)\n",
    "def scale(x, ub = 423, lb = 303, sf = 1):\n",
    "    m = sf/(ub - lb)\n",
    "    b = -lb*m\n",
    "    return m*x+b"
   ]
  },
  {
   "cell_type": "code",
   "execution_count": 44,
   "metadata": {},
   "outputs": [
    {
     "data": {
      "text/plain": [
       "(14641, 2)"
      ]
     },
     "execution_count": 44,
     "metadata": {},
     "output_type": "execute_result"
    }
   ],
   "source": [
    "TT = np.arange(303, 424, 1)\n",
    "TT = np.meshgrid(TT, TT)\n",
    "TT = np.hstack([TT[0].reshape(-1, 1), TT[1].reshape(-1, 1)])\n",
    "TT.shape"
   ]
  },
  {
   "cell_type": "code",
   "execution_count": 69,
   "metadata": {},
   "outputs": [
    {
     "name": "stdout",
     "output_type": "stream",
     "text": [
      "Create Statistical Reference Model...\n"
     ]
    },
    {
     "ename": "KeyboardInterrupt",
     "evalue": "",
     "output_type": "error",
     "traceback": [
      "\u001b[1;31m---------------------------------------------------------------------------\u001b[0m",
      "\u001b[1;31mKeyboardInterrupt\u001b[0m                         Traceback (most recent call last)",
      "Cell \u001b[1;32mIn[69], line 9\u001b[0m\n\u001b[0;32m      6\u001b[0m Tmod \u001b[38;5;241m=\u001b[39m np\u001b[38;5;241m.\u001b[39mhstack([Tmod[\u001b[38;5;241m0\u001b[39m]\u001b[38;5;241m.\u001b[39mreshape(\u001b[38;5;241m-\u001b[39m\u001b[38;5;241m1\u001b[39m, \u001b[38;5;241m1\u001b[39m), Tmod[\u001b[38;5;241m1\u001b[39m]\u001b[38;5;241m.\u001b[39mreshape(\u001b[38;5;241m-\u001b[39m\u001b[38;5;241m1\u001b[39m, \u001b[38;5;241m1\u001b[39m)])\n\u001b[0;32m      7\u001b[0m CTREF \u001b[38;5;241m=\u001b[39m np\u001b[38;5;241m.\u001b[39mones((Tmod\u001b[38;5;241m.\u001b[39mshape[\u001b[38;5;241m0\u001b[39m], \u001b[38;5;241m3\u001b[39m))\n\u001b[1;32m----> 9\u001b[0m Ctref \u001b[38;5;241m=\u001b[39m \u001b[43mParallel\u001b[49m\u001b[43m(\u001b[49m\u001b[43mn_jobs\u001b[49m\u001b[43m \u001b[49m\u001b[38;5;241;43m=\u001b[39;49m\u001b[43m \u001b[49m\u001b[38;5;241;43m5\u001b[39;49m\u001b[43m)\u001b[49m\u001b[43m(\u001b[49m\u001b[43mdelayed\u001b[49m\u001b[43m(\u001b[49m\u001b[43mSYST_RECYCLE_REF\u001b[49m\u001b[43m)\u001b[49m\u001b[43m(\u001b[49m\u001b[43mTmod\u001b[49m\u001b[43m,\u001b[49m\u001b[43m \u001b[49m\u001b[43mFR\u001b[49m\u001b[43m,\u001b[49m\u001b[43m \u001b[49m\u001b[43mR_Frac\u001b[49m\u001b[43m,\u001b[49m\u001b[43m \u001b[49m\u001b[43mCdist\u001b[49m\u001b[43m)\u001b[49m\n\u001b[0;32m     10\u001b[0m \u001b[43m                             \u001b[49m\u001b[38;5;28;43;01mfor\u001b[39;49;00m\u001b[43m \u001b[49m\u001b[43mCdist\u001b[49m\u001b[43m \u001b[49m\u001b[38;5;129;43;01min\u001b[39;49;00m\u001b[43m \u001b[49m\u001b[43mC0varf\u001b[49m\u001b[43m)\u001b[49m\n\u001b[0;32m     12\u001b[0m \u001b[38;5;28;01mfor\u001b[39;00m i \u001b[38;5;129;01min\u001b[39;00m \u001b[38;5;28mrange\u001b[39m(\u001b[38;5;241m3\u001b[39m):\n\u001b[0;32m     13\u001b[0m     C \u001b[38;5;241m=\u001b[39m np\u001b[38;5;241m.\u001b[39mvstack(Ctref[:][:])\u001b[38;5;241m.\u001b[39mT[:, i::\u001b[38;5;241m3\u001b[39m]\n",
      "File \u001b[1;32m~\\AppData\\Local\\Packages\\PythonSoftwareFoundation.Python.3.11_qbz5n2kfra8p0\\LocalCache\\local-packages\\Python311\\site-packages\\joblib\\parallel.py:2007\u001b[0m, in \u001b[0;36mParallel.__call__\u001b[1;34m(self, iterable)\u001b[0m\n\u001b[0;32m   2001\u001b[0m \u001b[38;5;66;03m# The first item from the output is blank, but it makes the interpreter\u001b[39;00m\n\u001b[0;32m   2002\u001b[0m \u001b[38;5;66;03m# progress until it enters the Try/Except block of the generator and\u001b[39;00m\n\u001b[0;32m   2003\u001b[0m \u001b[38;5;66;03m# reaches the first `yield` statement. This starts the asynchronous\u001b[39;00m\n\u001b[0;32m   2004\u001b[0m \u001b[38;5;66;03m# dispatch of the tasks to the workers.\u001b[39;00m\n\u001b[0;32m   2005\u001b[0m \u001b[38;5;28mnext\u001b[39m(output)\n\u001b[1;32m-> 2007\u001b[0m \u001b[38;5;28;01mreturn\u001b[39;00m output \u001b[38;5;28;01mif\u001b[39;00m \u001b[38;5;28mself\u001b[39m\u001b[38;5;241m.\u001b[39mreturn_generator \u001b[38;5;28;01melse\u001b[39;00m \u001b[38;5;28mlist\u001b[39m(output)\n",
      "File \u001b[1;32m~\\AppData\\Local\\Packages\\PythonSoftwareFoundation.Python.3.11_qbz5n2kfra8p0\\LocalCache\\local-packages\\Python311\\site-packages\\joblib\\parallel.py:1650\u001b[0m, in \u001b[0;36mParallel._get_outputs\u001b[1;34m(self, iterator, pre_dispatch)\u001b[0m\n\u001b[0;32m   1647\u001b[0m     \u001b[38;5;28;01myield\u001b[39;00m\n\u001b[0;32m   1649\u001b[0m     \u001b[38;5;28;01mwith\u001b[39;00m \u001b[38;5;28mself\u001b[39m\u001b[38;5;241m.\u001b[39m_backend\u001b[38;5;241m.\u001b[39mretrieval_context():\n\u001b[1;32m-> 1650\u001b[0m         \u001b[38;5;28;01myield from\u001b[39;00m \u001b[38;5;28mself\u001b[39m\u001b[38;5;241m.\u001b[39m_retrieve()\n\u001b[0;32m   1652\u001b[0m \u001b[38;5;28;01mexcept\u001b[39;00m \u001b[38;5;167;01mGeneratorExit\u001b[39;00m:\n\u001b[0;32m   1653\u001b[0m     \u001b[38;5;66;03m# The generator has been garbage collected before being fully\u001b[39;00m\n\u001b[0;32m   1654\u001b[0m     \u001b[38;5;66;03m# consumed. This aborts the remaining tasks if possible and warn\u001b[39;00m\n\u001b[0;32m   1655\u001b[0m     \u001b[38;5;66;03m# the user if necessary.\u001b[39;00m\n\u001b[0;32m   1656\u001b[0m     \u001b[38;5;28mself\u001b[39m\u001b[38;5;241m.\u001b[39m_exception \u001b[38;5;241m=\u001b[39m \u001b[38;5;28;01mTrue\u001b[39;00m\n",
      "File \u001b[1;32m~\\AppData\\Local\\Packages\\PythonSoftwareFoundation.Python.3.11_qbz5n2kfra8p0\\LocalCache\\local-packages\\Python311\\site-packages\\joblib\\parallel.py:1762\u001b[0m, in \u001b[0;36mParallel._retrieve\u001b[1;34m(self)\u001b[0m\n\u001b[0;32m   1757\u001b[0m \u001b[38;5;66;03m# If the next job is not ready for retrieval yet, we just wait for\u001b[39;00m\n\u001b[0;32m   1758\u001b[0m \u001b[38;5;66;03m# async callbacks to progress.\u001b[39;00m\n\u001b[0;32m   1759\u001b[0m \u001b[38;5;28;01mif\u001b[39;00m ((\u001b[38;5;28mlen\u001b[39m(\u001b[38;5;28mself\u001b[39m\u001b[38;5;241m.\u001b[39m_jobs) \u001b[38;5;241m==\u001b[39m \u001b[38;5;241m0\u001b[39m) \u001b[38;5;129;01mor\u001b[39;00m\n\u001b[0;32m   1760\u001b[0m     (\u001b[38;5;28mself\u001b[39m\u001b[38;5;241m.\u001b[39m_jobs[\u001b[38;5;241m0\u001b[39m]\u001b[38;5;241m.\u001b[39mget_status(\n\u001b[0;32m   1761\u001b[0m         timeout\u001b[38;5;241m=\u001b[39m\u001b[38;5;28mself\u001b[39m\u001b[38;5;241m.\u001b[39mtimeout) \u001b[38;5;241m==\u001b[39m TASK_PENDING)):\n\u001b[1;32m-> 1762\u001b[0m     time\u001b[38;5;241m.\u001b[39msleep(\u001b[38;5;241m0.01\u001b[39m)\n\u001b[0;32m   1763\u001b[0m     \u001b[38;5;28;01mcontinue\u001b[39;00m\n\u001b[0;32m   1765\u001b[0m \u001b[38;5;66;03m# We need to be careful: the job list can be filling up as\u001b[39;00m\n\u001b[0;32m   1766\u001b[0m \u001b[38;5;66;03m# we empty it and Python list are not thread-safe by\u001b[39;00m\n\u001b[0;32m   1767\u001b[0m \u001b[38;5;66;03m# default hence the use of the lock\u001b[39;00m\n",
      "\u001b[1;31mKeyboardInterrupt\u001b[0m: "
     ]
    }
   ],
   "source": [
    "print('Create Statistical Reference Model...')\n",
    "start = time.time()\n",
    "\n",
    "Tmod = np.linspace(303, 423, 13)\n",
    "Tmod = np.meshgrid(Tmod, Tmod)\n",
    "Tmod = np.hstack([Tmod[0].reshape(-1, 1), Tmod[1].reshape(-1, 1)])\n",
    "CTREF = np.ones((Tmod.shape[0], 3))\n",
    "\n",
    "Ctref = Parallel(n_jobs = 5)(delayed(SYST_RECYCLE_REF)(Tmod, FR, R_Frac, Cdist)\n",
    "                             for Cdist in C0varf)\n",
    "\n",
    "for i in range(3):\n",
    "    C = np.vstack(Ctref[:][:]).T[:, i::3]\n",
    "    C = 8*np.sum(C, axis = 1)\n",
    "    CTREF[:, i] = C\n",
    "    kergp = gpr.kernels.Matern((5, 5), ((1, 10), (1, 10)), nu = 2.5)\n",
    "gprefmod = gpr.GaussianProcessRegressor(kernel = kergp,\n",
    "                                        alpha = 1e-6,\n",
    "                                        n_restarts_optimizer = 10,\n",
    "                                        normalize_y = True)\n",
    "gprefmod.fit(scale(Tmod), CTREF)\n",
    "\n",
    "end = time.time()\n",
    "mobdtm = end-start\n",
    "print(mobdtm)"
   ]
  },
  {
   "cell_type": "code",
   "execution_count": null,
   "metadata": {},
   "outputs": [],
   "source": [
    "Tmod"
   ]
  },
  {
   "cell_type": "code",
   "execution_count": 36,
   "metadata": {},
   "outputs": [],
   "source": [
    "def SYST_C(T):\n",
    "    CtR = 0\n",
    "    for i in range(C0varf.shape[0]):\n",
    "        Ctr = 8*SYST_RECYCLE(T, FR, R_Frac, C0varf[i])[-1]\n",
    "        CtR += Ctr\n",
    "    return CtR\n",
    "\n",
    "def SYST_C_DIST(T):\n",
    "    CtR = 0\n",
    "    for i in range(C0varf.shape[0]):\n",
    "        Ctr = SYST_RECYCLE(T, FR, R_Frac, C0varf[i])\n",
    "        Ctr = np.vstack(Ctr[:]).T\n",
    "        CtR += 8*Ctr\n",
    "    return CtR\n",
    "\n",
    "def SYST_C_REFGP(T):\n",
    "    T = T.flatten()\n",
    "    T = T.reshape(int(T.shape[0]/2), 2)\n",
    "    T = scale(T)\n",
    "    return gprefmod.predict(T)[:, -1]\n",
    "\n",
    "def SYST_C_DISTGP(T):\n",
    "    T = T.flatten()\n",
    "    T = T.reshape(int(T.shape[0]/2), 2)\n",
    "    T = scale(T)\n",
    "    return gprefmod.predict(T)\n",
    "\n",
    "def SYST_C_REF1(T):\n",
    "    T = T.flatten()\n",
    "    T = T.reshape(int(T.shape[0]/2), 2)\n",
    "    T = scale(T)\n",
    "    return gprefmod.predict(T)[:, 0]\n",
    "\n",
    "def SYST_C_REF2(T):\n",
    "    T = T.flatten()\n",
    "    T = T.reshape(int(T.shape[0]/2), 2)\n",
    "    T = scale(T)\n",
    "    return gprefmod.predict(T)[:, 1]\n",
    "\n",
    "def zr(x):\n",
    "    x = x.reshape(-1, 1)\n",
    "    x = x.reshape(int(x.shape[0]/2), 2)\n",
    "    return np.zeros((x.shape[0], 3))\n"
   ]
  },
  {
   "cell_type": "code",
   "execution_count": 37,
   "metadata": {},
   "outputs": [],
   "source": [
    "# Setup BO class\n",
    "REACOPTIM = BO_algos.BO(ub = ub,\n",
    "                        lb = lb,\n",
    "                        dim = 2,\n",
    "                        exp_w = exp_w,\n",
    "                        kernel = kernel,\n",
    "                        system = SYST_C,\n",
    "                        bounds = bounds,\n",
    "                        **{'refmod': SYST_C_REFGP,\n",
    "                           'distmod': SYST_C_DIST,\n",
    "                           'ref_distmod': SYST_C_DISTGP,\n",
    "                           'ref_distmod1': SYST_C_REF1,\n",
    "                           'ref_distmod2': SYST_C_REF2})\n"
   ]
  },
  {
   "cell_type": "code",
   "execution_count": 11,
   "metadata": {},
   "outputs": [
    {
     "ename": "NameError",
     "evalue": "name 'kergp' is not defined",
     "output_type": "error",
     "traceback": [
      "\u001b[1;31m---------------------------------------------------------------------------\u001b[0m",
      "\u001b[1;31mNameError\u001b[0m                                 Traceback (most recent call last)",
      "Cell \u001b[1;32mIn[11], line 2\u001b[0m\n\u001b[0;32m      1\u001b[0m \u001b[38;5;66;03m## Generate level sets\u001b[39;00m\n\u001b[1;32m----> 2\u001b[0m gpparts \u001b[38;5;241m=\u001b[39m gpr\u001b[38;5;241m.\u001b[39mGaussianProcessRegressor(kernel \u001b[38;5;241m=\u001b[39m \u001b[43mkergp\u001b[49m,\n\u001b[0;32m      3\u001b[0m                                        alpha \u001b[38;5;241m=\u001b[39m \u001b[38;5;241m1e-6\u001b[39m,\n\u001b[0;32m      4\u001b[0m                                        n_restarts_optimizer \u001b[38;5;241m=\u001b[39m \u001b[38;5;241m10\u001b[39m,\n\u001b[0;32m      5\u001b[0m                                        normalize_y \u001b[38;5;241m=\u001b[39m \u001b[38;5;28;01mTrue\u001b[39;00m)\n\u001b[0;32m      6\u001b[0m gpparts\u001b[38;5;241m.\u001b[39mfit(scale(Tmod), (CTREF[:, \u001b[38;5;241m-\u001b[39m\u001b[38;5;241m1\u001b[39m])\u001b[38;5;241m.\u001b[39mreshape(\u001b[38;5;241m-\u001b[39m\u001b[38;5;241m1\u001b[39m, \u001b[38;5;241m1\u001b[39m))\n\u001b[0;32m      8\u001b[0m parts \u001b[38;5;241m=\u001b[39m np\u001b[38;5;241m.\u001b[39marray([\u001b[38;5;241m-\u001b[39m\u001b[38;5;241m461\u001b[39m, \u001b[38;5;241m-\u001b[39m\u001b[38;5;241m383\u001b[39m]) \u001b[38;5;66;03m# ref mod with g_1(T_1) and g_2(T_1, T_2)\u001b[39;00m\n",
      "\u001b[1;31mNameError\u001b[0m: name 'kergp' is not defined"
     ]
    }
   ],
   "source": [
    "## Generate level sets\n",
    "gpparts = gpr.GaussianProcessRegressor(kernel = kergp,\n",
    "                                       alpha = 1e-6,\n",
    "                                       n_restarts_optimizer = 10,\n",
    "                                       normalize_y = True)\n",
    "gpparts.fit(scale(Tmod), (CTREF[:, -1]).reshape(-1, 1))\n",
    "\n",
    "parts = np.array([-461, -383]) # ref mod with g_1(T_1) and g_2(T_1, T_2)\n",
    "\n",
    "con1 = lambda x: (gpparts.predict(x.reshape(1, 2))).flatten()\n",
    "con2 = lambda x: x[0]\n",
    "\n",
    "nlc1 = NonlinearConstraint(con1, -1e4, parts[0])\n",
    "nlc21 = NonlinearConstraint(con1, parts[0], parts[1])\n",
    "nlc22 = NonlinearConstraint(con2, 0.4, 1.1)\n",
    "nlc31 = NonlinearConstraint(con1, parts[0], parts[1])\n",
    "nlc32 = NonlinearConstraint(con2, 0, 0.38)\n",
    "nlc4 = NonlinearConstraint(con1, parts[1], 1e4)\n",
    "\n",
    "cons = {'1': [nlc1], '2': [nlc21, nlc22], '3': [nlc31, nlc32], '4': [nlc4]}"
   ]
  },
  {
   "cell_type": "code",
   "execution_count": 13,
   "metadata": {},
   "outputs": [],
   "source": [
    "## VP-BO intial points\n",
    "lim_init = REACOPTIM.scale(np.array([336, 380]))\n",
    "\n",
    "\n",
    "# Run_BO\n",
    "trials_seq = 100\n",
    "trials_par1 = 25\n",
    "trials_par2 = 33\n",
    "\n",
    "x_init = np.linspace(bounds.lb, bounds.ub, 5)\n",
    "x_init = np.meshgrid(*x_init.T)\n",
    "x_init = np.reshape(x_init, (dim, -1)).T\n"
   ]
  },
  {
   "cell_type": "code",
   "execution_count": 14,
   "metadata": {},
   "outputs": [
    {
     "name": "stdout",
     "output_type": "stream",
     "text": [
      "Vanilla BO run...\n"
     ]
    },
    {
     "ename": "ValueError",
     "evalue": "cannot reshape array of size 2 into shape (3)",
     "output_type": "error",
     "traceback": [
      "\u001b[1;31m---------------------------------------------------------------------------\u001b[0m",
      "\u001b[1;31mValueError\u001b[0m                                Traceback (most recent call last)",
      "Cell \u001b[1;32mIn[14], line 55\u001b[0m\n\u001b[0;32m     53\u001b[0m \u001b[38;5;28;01mfor\u001b[39;00m i, x_0 \u001b[38;5;129;01min\u001b[39;00m \u001b[38;5;28menumerate\u001b[39m(x_init):  \n\u001b[0;32m     54\u001b[0m     start \u001b[38;5;241m=\u001b[39m time\u001b[38;5;241m.\u001b[39mtime()\n\u001b[1;32m---> 55\u001b[0m     \u001b[43mREACOPTIM\u001b[49m\u001b[38;5;241;43m.\u001b[39;49m\u001b[43moptimizer_sbo\u001b[49m\u001b[43m(\u001b[49m\u001b[43mtrials\u001b[49m\u001b[43m \u001b[49m\u001b[38;5;241;43m=\u001b[39;49m\u001b[43m \u001b[49m\u001b[43mtrials_seq\u001b[49m\u001b[43m,\u001b[49m\u001b[43m \u001b[49m\u001b[43mx_init\u001b[49m\u001b[43m \u001b[49m\u001b[38;5;241;43m=\u001b[39;49m\u001b[43m \u001b[49m\u001b[43mx_0\u001b[49m\u001b[43m)\u001b[49m\n\u001b[0;32m     56\u001b[0m     end \u001b[38;5;241m=\u001b[39m time\u001b[38;5;241m.\u001b[39mtime()\n\u001b[0;32m     57\u001b[0m     \u001b[38;5;28mprint\u001b[39m(\u001b[38;5;124m'\u001b[39m\u001b[38;5;124mRun time \u001b[39m\u001b[38;5;124m'\u001b[39m\u001b[38;5;241m+\u001b[39m\u001b[38;5;28mstr\u001b[39m(end\u001b[38;5;241m-\u001b[39mstart)\u001b[38;5;241m+\u001b[39m\u001b[38;5;124m'\u001b[39m\u001b[38;5;124ms\u001b[39m\u001b[38;5;124m'\u001b[39m)\n",
      "File \u001b[1;32mc:\\Users\\saadr\\Desktop\\Parallel\\Parallel_BO_algos\\Parallel_Algos.py:148\u001b[0m, in \u001b[0;36mBO.optimizer_sbo\u001b[1;34m(self, trials, af_cores, x_init, init_pts)\u001b[0m\n\u001b[0;32m    144\u001b[0m     x \u001b[38;5;241m=\u001b[39m np\u001b[38;5;241m.\u001b[39mrandom\u001b[38;5;241m.\u001b[39muniform(\u001b[38;5;28mself\u001b[39m\u001b[38;5;241m.\u001b[39mbounds\u001b[38;5;241m.\u001b[39mlb,\n\u001b[0;32m    145\u001b[0m                           \u001b[38;5;28mself\u001b[39m\u001b[38;5;241m.\u001b[39mbounds\u001b[38;5;241m.\u001b[39mub,\n\u001b[0;32m    146\u001b[0m                           (init_pts, \u001b[38;5;28mself\u001b[39m\u001b[38;5;241m.\u001b[39mdim))\n\u001b[0;32m    147\u001b[0m \u001b[38;5;28;01melse\u001b[39;00m:\n\u001b[1;32m--> 148\u001b[0m     x \u001b[38;5;241m=\u001b[39m \u001b[43mx_init\u001b[49m\u001b[38;5;241;43m.\u001b[39;49m\u001b[43mreshape\u001b[49m\u001b[43m(\u001b[49m\u001b[38;5;241;43m-\u001b[39;49m\u001b[38;5;241;43m1\u001b[39;49m\u001b[43m,\u001b[49m\u001b[43m \u001b[49m\u001b[38;5;28;43mself\u001b[39;49m\u001b[38;5;241;43m.\u001b[39;49m\u001b[43mdim\u001b[49m\u001b[43m)\u001b[49m\n\u001b[0;32m    149\u001b[0m     init_pts \u001b[38;5;241m=\u001b[39m \u001b[38;5;28mlen\u001b[39m(x)\n\u001b[0;32m    151\u001b[0m start_f \u001b[38;5;241m=\u001b[39m time\u001b[38;5;241m.\u001b[39mtime()\n",
      "\u001b[1;31mValueError\u001b[0m: cannot reshape array of size 2 into shape (3)"
     ]
    }
   ],
   "source": [
    "MET_SBO = np.zeros((trials_seq, 4))\n",
    "PARAMS_SBO = np.ones(x_init.shape)\n",
    "DIST_SBO = np.array([]).reshape(0, dim)\n",
    "RES_SBO = np.ones((MET_SBO.shape[0], x_init.shape[0]))\n",
    "\n",
    "MET_REFBO = np.zeros((trials_seq, 4))\n",
    "PARAMS_REFBO = np.ones(x_init.shape)\n",
    "DIST_REFBO = np.array([]).reshape(0, dim)\n",
    "RES_REFBO = np.ones((MET_REFBO.shape[0], x_init.shape[0]))\n",
    "\n",
    "MET_LSBO1 = np.zeros((trials_par1, 4))\n",
    "PARAMS_LSBO1 = np.ones(x_init.shape)\n",
    "DIST_LSBO1 = np.array([]).reshape(0, dim)\n",
    "RES_LSBO1 = np.ones((MET_LSBO1.shape[0], x_init.shape[0]))\n",
    "\n",
    "MET_LSBO2 = np.zeros((trials_par1, 4))\n",
    "PARAMS_LSBO2 = np.ones(x_init.shape)\n",
    "DIST_LSBO2 = np.array([]).reshape(0, dim)\n",
    "RES_LSBO2 = np.ones((MET_LSBO2.shape[0], x_init.shape[0]))\n",
    "\n",
    "MET_VPBO1 = np.zeros((trials_par2, 4))\n",
    "PARAMS_VPBO1 = np.ones(x_init.shape)\n",
    "DIST_VPBO1 = np.array([]).reshape(0, dim)\n",
    "RES_VPBO1 = np.ones((MET_VPBO1.shape[0], x_init.shape[0]))\n",
    "\n",
    "MET_VPBO2 = np.zeros((trials_par2, 4))\n",
    "PARAMS_VPBO2 = np.ones(x_init.shape)\n",
    "DIST_VPBO2 = np.array([]).reshape(0, dim)\n",
    "RES_VPBO2 = np.ones((MET_VPBO2.shape[0], x_init.shape[0]))\n",
    "\n",
    "MET_HSBO = np.zeros((trials_par1, 4))\n",
    "PARAMS_HSBO = np.ones(x_init.shape)\n",
    "DIST_HSBO = np.array([]).reshape(0, dim)\n",
    "RES_HSBO = np.ones((MET_HSBO.shape[0], x_init.shape[0]))\n",
    "\n",
    "MET_EXBO = np.zeros((trials_par1, 4))\n",
    "PARAMS_EXBO = np.ones(x_init.shape)\n",
    "DIST_EXBO = np.array([]).reshape(0, dim)\n",
    "RES_EXBO = np.ones((MET_EXBO.shape[0], x_init.shape[0]))\n",
    "\n",
    "MET_NMCBO = np.zeros((trials_par1, 4))\n",
    "PARAMS_NMCBO = np.ones(x_init.shape)\n",
    "DIST_NMCBO = np.array([]).reshape(0, dim)\n",
    "RES_NMCBO = np.ones((MET_NMCBO.shape[0], x_init.shape[0]))\n",
    "\n",
    "MET_QBO = np.zeros((trials_par1, 4))\n",
    "PARAMS_QBO = np.ones(x_init.shape)\n",
    "DIST_QBO = np.array([]).reshape(0, dim)\n",
    "RES_QBO = np.ones((MET_QBO.shape[0], x_init.shape[0]))\n",
    "\n",
    "\n",
    "## S-BO\n",
    "for i, x_0 in enumerate(x_init):  \n",
    "    start = time.time()\n",
    "    REACOPTIM.optimizer_sbo(trials = trials_seq, x_init = x_0)\n",
    "    end = time.time()\n",
    "    print('Run time '+str(end-start)+'s')\n",
    "    print('iteration '+str(i+1))\n",
    "    MET_SBO[:, 0] += REACOPTIM.time_sbo.flatten()\n",
    "    MET_SBO[:, 1] += REACOPTIM.time_fsbo.flatten()\n",
    "    MET_SBO[:, 2] += MET_SBO[:, 2]+REACOPTIM.y_sbo.flatten()\n",
    "    MET_SBO[:, 3] += MET_SBO[:, 3]+np.min(REACOPTIM.y_sbo)\n",
    "    print('Best S-BO value is '+str(np.min(REACOPTIM.y_sbo)))\n",
    "    PARAMS_SBO[i] = REACOPTIM.x_sbo[np.argmin(REACOPTIM.y_sbo)]\n",
    "    DIST_SBO = np.vstack([DIST_SBO, REACOPTIM.x_sbo])\n",
    "    RES_SBO[:, i] = REACOPTIM.y_sbo[:, 0]\n",
    "MET_SBO[:, 0] = MET_SBO[:, 0]/(i+1)\n",
    "MET_SBO[:, 1] = MET_SBO[:, 1]/(i+1)\n",
    "MET_SBO[:, 2] = MET_SBO[:, 2]/(i+1)\n",
    "MET_SBO[:, 3] = MET_SBO[:, 3]/(i+1)\n",
    "REACOPTIM.y_sbo = MET_SBO[:, 2].flatten()\n",
    "REACOPTIM.time_sbo = MET_SBO[:, 0].flatten()\n",
    "REACOPTIM.time_fsbo = MET_SBO[:, 1].flatten()\n",
    "    \n",
    "\n",
    "## Ref-BO\n",
    "for i, x_0 in enumerate(x_init):  \n",
    "    start = time.time()\n",
    "    REACOPTIM.optimizer_refbo(trials = trials_seq, x_init = x_0)\n",
    "    end = time.time()\n",
    "    print('Run time '+str(end-start)+'s')\n",
    "    print('iteration '+str(i+1))\n",
    "    MET_REFBO[:, 0] += REACOPTIM.time_ref.flatten()\n",
    "    MET_REFBO[:, 1] += REACOPTIM.time_fref.flatten()\n",
    "    MET_REFBO[:, 2] += REACOPTIM.y_ref.flatten()\n",
    "    MET_REFBO[:, 3] += np.min(REACOPTIM.y_ref)\n",
    "    print('Best Ref-BO value is '+str(np.min(REACOPTIM.y_ref)))\n",
    "    PARAMS_REFBO[i] = REACOPTIM.x_ref[np.argmin(REACOPTIM.y_ref)]\n",
    "    DIST_REFBO = np.vstack([DIST_REFBO, REACOPTIM.x_ref])\n",
    "    RES_REFBO[:, i] = REACOPTIM.y_ref[:, 0]\n",
    "MET_REFBO[:, 0] = MET_REFBO[:, 0]/(i+1)\n",
    "MET_REFBO[:, 1] = MET_REFBO[:, 1]/(i+1)\n",
    "MET_REFBO[:, 2] = MET_REFBO[:, 2]/(i+1)\n",
    "MET_REFBO[:, 3] = MET_REFBO[:, 3]/(i+1)\n",
    "REACOPTIM.y_ref = MET_REFBO[:, 2].flatten()\n",
    "REACOPTIM.time_ref = MET_REFBO[:, 0].flatten()\n",
    "REACOPTIM.time_fref = MET_REFBO[:, 1].flatten()\n"
   ]
  },
  {
   "cell_type": "code",
   "execution_count": null,
   "metadata": {},
   "outputs": [],
   "source": [
    "## LS-BO\n",
    "for i, x_0 in enumerate(x_init):\n",
    "    start = time.time()\n",
    "    REACOPTIM.optimizer_lsbo(trials = trials_par1,\n",
    "                             partition_number = 4,\n",
    "                             repartition_intervals = [],\n",
    "                             x_samps = [],\n",
    "                             f_cores = 4,\n",
    "                             af_cores = 1,\n",
    "                             ref_cores = 1,\n",
    "                             partitions = cons, \n",
    "                             x_init = x_0)\n",
    "    end = time.time()\n",
    "    print('Run time '+str(end-start)+'s')\n",
    "    print('iteration '+str(i+1))\n",
    "    MET_LSBO1[:, 0] += REACOPTIM.time_ls.flatten()\n",
    "    MET_LSBO1[:, 1] += REACOPTIM.time_fls.flatten()\n",
    "    MET_LSBO1[:, 2] += REACOPTIM.y_lsbst.flatten()\n",
    "    MET_LSBO1[:, 3] += np.min(REACOPTIM.y_lsbst)\n",
    "    print('Best LS-BO value is '+str(np.min(REACOPTIM.y_lsbst)))\n",
    "    PARAMS_LSBO1[i] = REACOPTIM.x_ls[np.argmin(REACOPTIM.y_ls)]\n",
    "    DIST_LSBO1 = np.vstack([DIST_LSBO1, REACOPTIM.x_ls])\n",
    "    RES_LSBO1[:, i] = REACOPTIM.y_lsbst[:, 0]\n",
    "MET_LSBO1[:, 0] = MET_LSBO1[:, 0]/(i+1)\n",
    "MET_LSBO1[:, 1] = MET_LSBO1[:, 1]/(i+1)\n",
    "MET_LSBO1[:, 2] = MET_LSBO1[:, 2]/(i+1)\n",
    "MET_LSBO1[:, 3] = MET_LSBO1[:, 3]/(i+1)\n",
    "REACOPTIM.y_lsbst = MET_LSBO1[:, 2].flatten()\n",
    "REACOPTIM.time_ls = MET_LSBO1[:, 0].flatten()\n",
    "REACOPTIM.time_fls = MET_LSBO1[:, 1].flatten()\n"
   ]
  },
  {
   "cell_type": "code",
   "execution_count": 68,
   "metadata": {},
   "outputs": [
    {
     "ename": "NameError",
     "evalue": "name 'x_init' is not defined",
     "output_type": "error",
     "traceback": [
      "\u001b[1;31m---------------------------------------------------------------------------\u001b[0m",
      "\u001b[1;31mNameError\u001b[0m                                 Traceback (most recent call last)",
      "Cell \u001b[1;32mIn[68], line 2\u001b[0m\n\u001b[0;32m      1\u001b[0m \u001b[38;5;66;03m## VP-BO \u001b[39;00m\n\u001b[1;32m----> 2\u001b[0m \u001b[38;5;28;01mfor\u001b[39;00m i, x_0 \u001b[38;5;129;01min\u001b[39;00m \u001b[38;5;28menumerate\u001b[39m(\u001b[43mx_init\u001b[49m):\n\u001b[0;32m      3\u001b[0m     start \u001b[38;5;241m=\u001b[39m time\u001b[38;5;241m.\u001b[39mtime()\n\u001b[0;32m      4\u001b[0m     REACOPTIM\u001b[38;5;241m.\u001b[39moptimizer_vpbo(trials \u001b[38;5;241m=\u001b[39m trials_par2,\n\u001b[0;32m      5\u001b[0m                              split_num \u001b[38;5;241m=\u001b[39m \u001b[38;5;241m3\u001b[39m,\n\u001b[0;32m      6\u001b[0m                              lim_init \u001b[38;5;241m=\u001b[39m lim_init,\n\u001b[1;32m   (...)\u001b[0m\n\u001b[0;32m      9\u001b[0m                              ref_cores \u001b[38;5;241m=\u001b[39m \u001b[38;5;241m1\u001b[39m,\n\u001b[0;32m     10\u001b[0m                              x_init  \u001b[38;5;241m=\u001b[39m x_0)\n",
      "\u001b[1;31mNameError\u001b[0m: name 'x_init' is not defined"
     ]
    }
   ],
   "source": [
    "## VP-BO \n",
    "for i, x_0 in enumerate(x_init):\n",
    "    start = time.time()\n",
    "    REACOPTIM.optimizer_vpbo(trials = trials_par2,\n",
    "                             split_num = 3,\n",
    "                             lim_init = lim_init,\n",
    "                             f_cores = 3,\n",
    "                             af_cores = 1,\n",
    "                             ref_cores = 1,\n",
    "                             x_init  = x_0)\n",
    "    end = time.time()\n",
    "    print('Run time '+str(end-start)+'s')\n",
    "    print('iteration '+str(i+1))\n",
    "    MET_VPBO1[:, 0] += REACOPTIM.time_vp.flatten()\n",
    "    MET_VPBO1[:, 1] += REACOPTIM.time_fvp.flatten()\n",
    "    MET_VPBO1[:, 2] += REACOPTIM.y_vpbst[:, -1].flatten()\n",
    "    MET_VPBO1[:, 3] += np.min(REACOPTIM.y_vpbst[:, -1])\n",
    "    print('Best VP-BO value is '+str(np.min(REACOPTIM.y_vpbst[:, -1])))\n",
    "    PARAMS_VPBO1[i] = REACOPTIM.x_vp[np.argmin(REACOPTIM.y_vp[:, -1])]\n",
    "    DIST_VPBO1 = np.vstack([DIST_VPBO1, REACOPTIM.x_vp])\n",
    "    RES_VPBO1[:, i] = REACOPTIM.y_vpbst[:, -1]\n",
    "MET_VPBO1[:, 0] = MET_VPBO1[:, 0]/(i+1)\n",
    "MET_VPBO1[:, 1] = MET_VPBO1[:, 1]/(i+1)\n",
    "MET_VPBO1[:, 2] = MET_VPBO1[:, 2]/(i+1)\n",
    "MET_VPBO1[:, 3] = MET_VPBO1[:, 3]/(i+1)\n",
    "REACOPTIM.y_vpbst = MET_VPBO1[:, 2].reshape(-1, 1)\n",
    "REACOPTIM.time_vp = MET_VPBO1[:, 0].flatten()\n",
    "REACOPTIM.time_fvp = MET_VPBO1[:, 1].flatten()"
   ]
  },
  {
   "cell_type": "code",
   "execution_count": 30,
   "metadata": {},
   "outputs": [
    {
     "ename": "NameError",
     "evalue": "name 'REACOPTIM' is not defined",
     "output_type": "error",
     "traceback": [
      "\u001b[1;31m---------------------------------------------------------------------------\u001b[0m",
      "\u001b[1;31mNameError\u001b[0m                                 Traceback (most recent call last)",
      "Cell \u001b[1;32mIn[30], line 2\u001b[0m\n\u001b[0;32m      1\u001b[0m \u001b[38;5;66;03m# Plot convergence plots\u001b[39;00m\n\u001b[1;32m----> 2\u001b[0m \u001b[43mREACOPTIM\u001b[49m\u001b[38;5;241m.\u001b[39mplots(\u001b[38;5;124m'\u001b[39m\u001b[38;5;124mR1\u001b[39m\u001b[38;5;124m'\u001b[39m)\n\u001b[0;32m      3\u001b[0m REACOPTIM\u001b[38;5;241m.\u001b[39mplots_time(\u001b[38;5;124m'\u001b[39m\u001b[38;5;124mR1\u001b[39m\u001b[38;5;124m'\u001b[39m)\n\u001b[0;32m      4\u001b[0m REACOPTIM\u001b[38;5;241m.\u001b[39mplot_exptime(\u001b[38;5;124m'\u001b[39m\u001b[38;5;124mR1\u001b[39m\u001b[38;5;124m'\u001b[39m)\n",
      "\u001b[1;31mNameError\u001b[0m: name 'REACOPTIM' is not defined"
     ]
    }
   ],
   "source": [
    "# Plot convergence plots\n",
    "REACOPTIM.plots('R1')\n",
    "REACOPTIM.plots_time('R1')\n",
    "REACOPTIM.plot_exptime('R1')"
   ]
  },
  {
   "cell_type": "markdown",
   "metadata": {},
   "source": [
    "----------------------------------------------------------------------------------------------"
   ]
  },
  {
   "cell_type": "code",
   "execution_count": 7,
   "metadata": {},
   "outputs": [],
   "source": [
    "import numpy as np\n",
    "from scipy.optimize import Bounds, NonlinearConstraint\n",
    "import sklearn.gaussian_process as gpr\n",
    "import time\n",
    "import RXTR_SYSTEM\n",
    "from joblib import Parallel, delayed\n",
    "\n",
    "import sys\n",
    "sys.path.append('./../../BO_algos')\n",
    "import Parallel_Algos as BO_algos\n",
    "import warnings\n",
    "from sklearn.exceptions import ConvergenceWarning\n",
    "warnings.simplefilter('ignore', RuntimeWarning)\n",
    "warnings.simplefilter('ignore', ConvergenceWarning)"
   ]
  },
  {
   "cell_type": "code",
   "execution_count": null,
   "metadata": {},
   "outputs": [],
   "source": []
  },
  {
   "cell_type": "code",
   "execution_count": 8,
   "metadata": {},
   "outputs": [],
   "source": [
    "import pandas as pd\n",
    "import torch\n",
    "\n",
    "# Load the data\n",
    "df = pd.read_csv('df_scaled.csv')\n",
    "df = df.drop_duplicates().dropna()"
   ]
  },
  {
   "cell_type": "markdown",
   "metadata": {},
   "source": []
  },
  {
   "cell_type": "code",
   "execution_count": 9,
   "metadata": {},
   "outputs": [
    {
     "data": {
      "text/html": [
       "<div>\n",
       "<style scoped>\n",
       "    .dataframe tbody tr th:only-of-type {\n",
       "        vertical-align: middle;\n",
       "    }\n",
       "\n",
       "    .dataframe tbody tr th {\n",
       "        vertical-align: top;\n",
       "    }\n",
       "\n",
       "    .dataframe thead th {\n",
       "        text-align: right;\n",
       "    }\n",
       "</style>\n",
       "<table border=\"1\" class=\"dataframe\">\n",
       "  <thead>\n",
       "    <tr style=\"text-align: right;\">\n",
       "      <th></th>\n",
       "      <th>surfaceProcessingLocationCavity</th>\n",
       "      <th>hotRunner</th>\n",
       "      <th>hotRunnerCost</th>\n",
       "      <th>manufacturingCost</th>\n",
       "      <th>mouldValidationCost</th>\n",
       "      <th>designTime</th>\n",
       "      <th>hourlyDesignCost</th>\n",
       "      <th>removedChassis</th>\n",
       "      <th>weightChassisProcessed</th>\n",
       "      <th>surfaceProcessingLocationChassis</th>\n",
       "      <th>...</th>\n",
       "      <th>human health - ionising radiation</th>\n",
       "      <th>human health - respiratory effects (inorganics)</th>\n",
       "      <th>human health - total</th>\n",
       "      <th>human health - human toxicity</th>\n",
       "      <th>ecosystem quality - aquatic ecotoxicity</th>\n",
       "      <th>climate change - climate change</th>\n",
       "      <th>human health - ozone layer depletion</th>\n",
       "      <th>ecosystem quality - land occupation</th>\n",
       "      <th>climate change - total</th>\n",
       "      <th>ecosystem quality - total</th>\n",
       "    </tr>\n",
       "  </thead>\n",
       "  <tbody>\n",
       "    <tr>\n",
       "      <th>0</th>\n",
       "      <td>0.5</td>\n",
       "      <td>1.0</td>\n",
       "      <td>1.0</td>\n",
       "      <td>0.5</td>\n",
       "      <td>0.0</td>\n",
       "      <td>0.0</td>\n",
       "      <td>1.0</td>\n",
       "      <td>0.666667</td>\n",
       "      <td>0.0</td>\n",
       "      <td>0.000000</td>\n",
       "      <td>...</td>\n",
       "      <td>0.000524</td>\n",
       "      <td>0.001147</td>\n",
       "      <td>0.001123</td>\n",
       "      <td>0.003098</td>\n",
       "      <td>0.001833</td>\n",
       "      <td>0.000650</td>\n",
       "      <td>0.000886</td>\n",
       "      <td>0.002312</td>\n",
       "      <td>0.000650</td>\n",
       "      <td>0.003202</td>\n",
       "    </tr>\n",
       "    <tr>\n",
       "      <th>1</th>\n",
       "      <td>0.5</td>\n",
       "      <td>1.0</td>\n",
       "      <td>1.0</td>\n",
       "      <td>0.0</td>\n",
       "      <td>0.5</td>\n",
       "      <td>0.5</td>\n",
       "      <td>0.0</td>\n",
       "      <td>0.000000</td>\n",
       "      <td>0.0</td>\n",
       "      <td>0.000000</td>\n",
       "      <td>...</td>\n",
       "      <td>0.000075</td>\n",
       "      <td>0.000045</td>\n",
       "      <td>0.000054</td>\n",
       "      <td>0.000039</td>\n",
       "      <td>0.000029</td>\n",
       "      <td>0.000032</td>\n",
       "      <td>0.000043</td>\n",
       "      <td>0.000055</td>\n",
       "      <td>0.000032</td>\n",
       "      <td>0.000038</td>\n",
       "    </tr>\n",
       "    <tr>\n",
       "      <th>2</th>\n",
       "      <td>0.5</td>\n",
       "      <td>0.0</td>\n",
       "      <td>1.0</td>\n",
       "      <td>0.5</td>\n",
       "      <td>1.0</td>\n",
       "      <td>1.0</td>\n",
       "      <td>1.0</td>\n",
       "      <td>0.666667</td>\n",
       "      <td>0.0</td>\n",
       "      <td>0.000000</td>\n",
       "      <td>...</td>\n",
       "      <td>0.000522</td>\n",
       "      <td>0.001143</td>\n",
       "      <td>0.001119</td>\n",
       "      <td>0.003088</td>\n",
       "      <td>0.001827</td>\n",
       "      <td>0.000647</td>\n",
       "      <td>0.000883</td>\n",
       "      <td>0.002304</td>\n",
       "      <td>0.000647</td>\n",
       "      <td>0.003192</td>\n",
       "    </tr>\n",
       "    <tr>\n",
       "      <th>3</th>\n",
       "      <td>0.5</td>\n",
       "      <td>1.0</td>\n",
       "      <td>0.0</td>\n",
       "      <td>0.0</td>\n",
       "      <td>1.0</td>\n",
       "      <td>0.5</td>\n",
       "      <td>0.0</td>\n",
       "      <td>0.400000</td>\n",
       "      <td>0.0</td>\n",
       "      <td>0.000000</td>\n",
       "      <td>...</td>\n",
       "      <td>0.000315</td>\n",
       "      <td>0.000690</td>\n",
       "      <td>0.000675</td>\n",
       "      <td>0.001863</td>\n",
       "      <td>0.001102</td>\n",
       "      <td>0.000391</td>\n",
       "      <td>0.000533</td>\n",
       "      <td>0.001390</td>\n",
       "      <td>0.000391</td>\n",
       "      <td>0.001926</td>\n",
       "    </tr>\n",
       "    <tr>\n",
       "      <th>4</th>\n",
       "      <td>0.5</td>\n",
       "      <td>0.0</td>\n",
       "      <td>0.5</td>\n",
       "      <td>0.0</td>\n",
       "      <td>0.5</td>\n",
       "      <td>0.0</td>\n",
       "      <td>1.0</td>\n",
       "      <td>0.400000</td>\n",
       "      <td>0.0</td>\n",
       "      <td>0.000000</td>\n",
       "      <td>...</td>\n",
       "      <td>0.000313</td>\n",
       "      <td>0.000686</td>\n",
       "      <td>0.000671</td>\n",
       "      <td>0.001853</td>\n",
       "      <td>0.001096</td>\n",
       "      <td>0.000388</td>\n",
       "      <td>0.000530</td>\n",
       "      <td>0.001382</td>\n",
       "      <td>0.000388</td>\n",
       "      <td>0.001915</td>\n",
       "    </tr>\n",
       "    <tr>\n",
       "      <th>...</th>\n",
       "      <td>...</td>\n",
       "      <td>...</td>\n",
       "      <td>...</td>\n",
       "      <td>...</td>\n",
       "      <td>...</td>\n",
       "      <td>...</td>\n",
       "      <td>...</td>\n",
       "      <td>...</td>\n",
       "      <td>...</td>\n",
       "      <td>...</td>\n",
       "      <td>...</td>\n",
       "      <td>...</td>\n",
       "      <td>...</td>\n",
       "      <td>...</td>\n",
       "      <td>...</td>\n",
       "      <td>...</td>\n",
       "      <td>...</td>\n",
       "      <td>...</td>\n",
       "      <td>...</td>\n",
       "      <td>...</td>\n",
       "      <td>...</td>\n",
       "    </tr>\n",
       "    <tr>\n",
       "      <th>164142</th>\n",
       "      <td>1.0</td>\n",
       "      <td>0.0</td>\n",
       "      <td>1.0</td>\n",
       "      <td>1.0</td>\n",
       "      <td>0.0</td>\n",
       "      <td>0.5</td>\n",
       "      <td>0.0</td>\n",
       "      <td>0.400000</td>\n",
       "      <td>0.0</td>\n",
       "      <td>0.666667</td>\n",
       "      <td>...</td>\n",
       "      <td>0.002785</td>\n",
       "      <td>0.003425</td>\n",
       "      <td>0.004098</td>\n",
       "      <td>0.012891</td>\n",
       "      <td>0.029770</td>\n",
       "      <td>0.001492</td>\n",
       "      <td>0.001615</td>\n",
       "      <td>0.002877</td>\n",
       "      <td>0.001492</td>\n",
       "      <td>0.058132</td>\n",
       "    </tr>\n",
       "    <tr>\n",
       "      <th>164143</th>\n",
       "      <td>0.5</td>\n",
       "      <td>1.0</td>\n",
       "      <td>0.0</td>\n",
       "      <td>0.0</td>\n",
       "      <td>0.0</td>\n",
       "      <td>1.0</td>\n",
       "      <td>0.0</td>\n",
       "      <td>0.400000</td>\n",
       "      <td>0.0</td>\n",
       "      <td>0.000000</td>\n",
       "      <td>...</td>\n",
       "      <td>0.010388</td>\n",
       "      <td>0.006251</td>\n",
       "      <td>0.007575</td>\n",
       "      <td>0.005804</td>\n",
       "      <td>0.004219</td>\n",
       "      <td>0.004516</td>\n",
       "      <td>0.005981</td>\n",
       "      <td>0.007872</td>\n",
       "      <td>0.004516</td>\n",
       "      <td>0.005611</td>\n",
       "    </tr>\n",
       "    <tr>\n",
       "      <th>164144</th>\n",
       "      <td>0.5</td>\n",
       "      <td>0.0</td>\n",
       "      <td>0.0</td>\n",
       "      <td>0.5</td>\n",
       "      <td>0.0</td>\n",
       "      <td>0.0</td>\n",
       "      <td>0.0</td>\n",
       "      <td>0.000000</td>\n",
       "      <td>0.0</td>\n",
       "      <td>0.000000</td>\n",
       "      <td>...</td>\n",
       "      <td>0.017868</td>\n",
       "      <td>0.009871</td>\n",
       "      <td>0.012244</td>\n",
       "      <td>0.007008</td>\n",
       "      <td>0.005538</td>\n",
       "      <td>0.007321</td>\n",
       "      <td>0.009669</td>\n",
       "      <td>0.011507</td>\n",
       "      <td>0.007321</td>\n",
       "      <td>0.006554</td>\n",
       "    </tr>\n",
       "    <tr>\n",
       "      <th>164145</th>\n",
       "      <td>0.0</td>\n",
       "      <td>0.0</td>\n",
       "      <td>0.0</td>\n",
       "      <td>1.0</td>\n",
       "      <td>0.0</td>\n",
       "      <td>1.0</td>\n",
       "      <td>0.0</td>\n",
       "      <td>1.000000</td>\n",
       "      <td>0.0</td>\n",
       "      <td>1.000000</td>\n",
       "      <td>...</td>\n",
       "      <td>0.010242</td>\n",
       "      <td>0.008582</td>\n",
       "      <td>0.010265</td>\n",
       "      <td>0.020744</td>\n",
       "      <td>0.040248</td>\n",
       "      <td>0.004851</td>\n",
       "      <td>0.006126</td>\n",
       "      <td>0.009296</td>\n",
       "      <td>0.004851</td>\n",
       "      <td>0.077022</td>\n",
       "    </tr>\n",
       "    <tr>\n",
       "      <th>164146</th>\n",
       "      <td>0.0</td>\n",
       "      <td>1.0</td>\n",
       "      <td>1.0</td>\n",
       "      <td>1.0</td>\n",
       "      <td>0.0</td>\n",
       "      <td>0.5</td>\n",
       "      <td>0.0</td>\n",
       "      <td>0.000000</td>\n",
       "      <td>0.0</td>\n",
       "      <td>1.000000</td>\n",
       "      <td>...</td>\n",
       "      <td>0.002290</td>\n",
       "      <td>0.002361</td>\n",
       "      <td>0.002974</td>\n",
       "      <td>0.009171</td>\n",
       "      <td>0.023773</td>\n",
       "      <td>0.000942</td>\n",
       "      <td>0.001028</td>\n",
       "      <td>0.001307</td>\n",
       "      <td>0.000942</td>\n",
       "      <td>0.046709</td>\n",
       "    </tr>\n",
       "  </tbody>\n",
       "</table>\n",
       "<p>105581 rows × 70 columns</p>\n",
       "</div>"
      ],
      "text/plain": [
       "        surfaceProcessingLocationCavity  hotRunner  hotRunnerCost  \\\n",
       "0                                   0.5        1.0            1.0   \n",
       "1                                   0.5        1.0            1.0   \n",
       "2                                   0.5        0.0            1.0   \n",
       "3                                   0.5        1.0            0.0   \n",
       "4                                   0.5        0.0            0.5   \n",
       "...                                 ...        ...            ...   \n",
       "164142                              1.0        0.0            1.0   \n",
       "164143                              0.5        1.0            0.0   \n",
       "164144                              0.5        0.0            0.0   \n",
       "164145                              0.0        0.0            0.0   \n",
       "164146                              0.0        1.0            1.0   \n",
       "\n",
       "        manufacturingCost  mouldValidationCost  designTime  hourlyDesignCost  \\\n",
       "0                     0.5                  0.0         0.0               1.0   \n",
       "1                     0.0                  0.5         0.5               0.0   \n",
       "2                     0.5                  1.0         1.0               1.0   \n",
       "3                     0.0                  1.0         0.5               0.0   \n",
       "4                     0.0                  0.5         0.0               1.0   \n",
       "...                   ...                  ...         ...               ...   \n",
       "164142                1.0                  0.0         0.5               0.0   \n",
       "164143                0.0                  0.0         1.0               0.0   \n",
       "164144                0.5                  0.0         0.0               0.0   \n",
       "164145                1.0                  0.0         1.0               0.0   \n",
       "164146                1.0                  0.0         0.5               0.0   \n",
       "\n",
       "        removedChassis  weightChassisProcessed  \\\n",
       "0             0.666667                     0.0   \n",
       "1             0.000000                     0.0   \n",
       "2             0.666667                     0.0   \n",
       "3             0.400000                     0.0   \n",
       "4             0.400000                     0.0   \n",
       "...                ...                     ...   \n",
       "164142        0.400000                     0.0   \n",
       "164143        0.400000                     0.0   \n",
       "164144        0.000000                     0.0   \n",
       "164145        1.000000                     0.0   \n",
       "164146        0.000000                     0.0   \n",
       "\n",
       "        surfaceProcessingLocationChassis  ...  \\\n",
       "0                               0.000000  ...   \n",
       "1                               0.000000  ...   \n",
       "2                               0.000000  ...   \n",
       "3                               0.000000  ...   \n",
       "4                               0.000000  ...   \n",
       "...                                  ...  ...   \n",
       "164142                          0.666667  ...   \n",
       "164143                          0.000000  ...   \n",
       "164144                          0.000000  ...   \n",
       "164145                          1.000000  ...   \n",
       "164146                          1.000000  ...   \n",
       "\n",
       "        human health - ionising radiation  \\\n",
       "0                                0.000524   \n",
       "1                                0.000075   \n",
       "2                                0.000522   \n",
       "3                                0.000315   \n",
       "4                                0.000313   \n",
       "...                                   ...   \n",
       "164142                           0.002785   \n",
       "164143                           0.010388   \n",
       "164144                           0.017868   \n",
       "164145                           0.010242   \n",
       "164146                           0.002290   \n",
       "\n",
       "        human health - respiratory effects (inorganics)  human health - total  \\\n",
       "0                                              0.001147              0.001123   \n",
       "1                                              0.000045              0.000054   \n",
       "2                                              0.001143              0.001119   \n",
       "3                                              0.000690              0.000675   \n",
       "4                                              0.000686              0.000671   \n",
       "...                                                 ...                   ...   \n",
       "164142                                         0.003425              0.004098   \n",
       "164143                                         0.006251              0.007575   \n",
       "164144                                         0.009871              0.012244   \n",
       "164145                                         0.008582              0.010265   \n",
       "164146                                         0.002361              0.002974   \n",
       "\n",
       "        human health - human toxicity  \\\n",
       "0                            0.003098   \n",
       "1                            0.000039   \n",
       "2                            0.003088   \n",
       "3                            0.001863   \n",
       "4                            0.001853   \n",
       "...                               ...   \n",
       "164142                       0.012891   \n",
       "164143                       0.005804   \n",
       "164144                       0.007008   \n",
       "164145                       0.020744   \n",
       "164146                       0.009171   \n",
       "\n",
       "        ecosystem quality - aquatic ecotoxicity  \\\n",
       "0                                      0.001833   \n",
       "1                                      0.000029   \n",
       "2                                      0.001827   \n",
       "3                                      0.001102   \n",
       "4                                      0.001096   \n",
       "...                                         ...   \n",
       "164142                                 0.029770   \n",
       "164143                                 0.004219   \n",
       "164144                                 0.005538   \n",
       "164145                                 0.040248   \n",
       "164146                                 0.023773   \n",
       "\n",
       "        climate change - climate change  human health - ozone layer depletion  \\\n",
       "0                              0.000650                              0.000886   \n",
       "1                              0.000032                              0.000043   \n",
       "2                              0.000647                              0.000883   \n",
       "3                              0.000391                              0.000533   \n",
       "4                              0.000388                              0.000530   \n",
       "...                                 ...                                   ...   \n",
       "164142                         0.001492                              0.001615   \n",
       "164143                         0.004516                              0.005981   \n",
       "164144                         0.007321                              0.009669   \n",
       "164145                         0.004851                              0.006126   \n",
       "164146                         0.000942                              0.001028   \n",
       "\n",
       "        ecosystem quality - land occupation  climate change - total  \\\n",
       "0                                  0.002312                0.000650   \n",
       "1                                  0.000055                0.000032   \n",
       "2                                  0.002304                0.000647   \n",
       "3                                  0.001390                0.000391   \n",
       "4                                  0.001382                0.000388   \n",
       "...                                     ...                     ...   \n",
       "164142                             0.002877                0.001492   \n",
       "164143                             0.007872                0.004516   \n",
       "164144                             0.011507                0.007321   \n",
       "164145                             0.009296                0.004851   \n",
       "164146                             0.001307                0.000942   \n",
       "\n",
       "        ecosystem quality - total  \n",
       "0                        0.003202  \n",
       "1                        0.000038  \n",
       "2                        0.003192  \n",
       "3                        0.001926  \n",
       "4                        0.001915  \n",
       "...                           ...  \n",
       "164142                   0.058132  \n",
       "164143                   0.005611  \n",
       "164144                   0.006554  \n",
       "164145                   0.077022  \n",
       "164146                   0.046709  \n",
       "\n",
       "[105581 rows x 70 columns]"
      ]
     },
     "execution_count": 9,
     "metadata": {},
     "output_type": "execute_result"
    }
   ],
   "source": [
    "df.head(-1)"
   ]
  },
  {
   "cell_type": "code",
   "execution_count": null,
   "metadata": {},
   "outputs": [
    {
     "name": "stdout",
     "output_type": "stream",
     "text": [
      "624\n"
     ]
    },
    {
     "data": {
      "text/plain": [
       "2496"
      ]
     },
     "execution_count": 17,
     "metadata": {},
     "output_type": "execute_result"
    }
   ],
   "source": []
  },
  {
   "cell_type": "code",
   "execution_count": 10,
   "metadata": {},
   "outputs": [],
   "source": [
    "label_col=        ['human health - total']"
   ]
  },
  {
   "cell_type": "code",
   "execution_count": 11,
   "metadata": {},
   "outputs": [],
   "source": [
    "feature_cols= ['manufacturingCost','nProdottiAnno', 'hotRunner']#human health-total"
   ]
  },
  {
   "cell_type": "code",
   "execution_count": 12,
   "metadata": {},
   "outputs": [],
   "source": [
    "df = df[feature_cols + label_col]\n",
    "df = df.drop_duplicates().dropna()"
   ]
  },
  {
   "cell_type": "code",
   "execution_count": 13,
   "metadata": {},
   "outputs": [
    {
     "name": "stdout",
     "output_type": "stream",
     "text": [
      "1234\n"
     ]
    },
    {
     "data": {
      "text/plain": [
       "4938"
      ]
     },
     "execution_count": 13,
     "metadata": {},
     "output_type": "execute_result"
    }
   ],
   "source": [
    "n_test= round(0.2*  df.shape[0])\n",
    "print(n_test)\n",
    "n_train= df.shape[0]-n_test\n",
    "n_train"
   ]
  },
  {
   "cell_type": "code",
   "execution_count": 14,
   "metadata": {},
   "outputs": [
    {
     "data": {
      "text/plain": [
       "(6172, 3)"
      ]
     },
     "execution_count": 14,
     "metadata": {},
     "output_type": "execute_result"
    }
   ],
   "source": [
    "# Assume last column is the target, rest are features\n",
    "X = df.iloc[:, :-1].values  # Features\n",
    "y = df.iloc[:, :1].values   # Target\n",
    "X.shape"
   ]
  },
  {
   "cell_type": "code",
   "execution_count": 15,
   "metadata": {},
   "outputs": [],
   "source": [
    "  # or whatever number you want for n_test\n",
    "train_x = torch.tensor(X[:n_train], dtype=torch.float32)\n",
    "train_y = torch.tensor(y[:n_train], dtype=torch.float32)"
   ]
  },
  {
   "cell_type": "code",
   "execution_count": 16,
   "metadata": {},
   "outputs": [],
   "source": [
    "test_x = train_x[:-n_test]  # Select first 1000 as test data\n",
    "test_y = train_y[:-n_test]"
   ]
  },
  {
   "cell_type": "code",
   "execution_count": 17,
   "metadata": {},
   "outputs": [
    {
     "name": "stdout",
     "output_type": "stream",
     "text": [
      "torch.Size([4938, 3])\n",
      "torch.Size([3704, 3])\n"
     ]
    }
   ],
   "source": [
    "print(train_x.size())\n",
    "print(test_x.size())"
   ]
  },
  {
   "cell_type": "code",
   "execution_count": 18,
   "metadata": {},
   "outputs": [
    {
     "data": {
      "text/plain": [
       "tensor(1.)"
      ]
     },
     "execution_count": 18,
     "metadata": {},
     "output_type": "execute_result"
    }
   ],
   "source": [
    "train_x.max()"
   ]
  },
  {
   "cell_type": "code",
   "execution_count": 26,
   "metadata": {},
   "outputs": [],
   "source": [
    "# Train reference model (GP)\n",
    "def scale(x, ub = 1, lb = 0, sf = 1):\n",
    "    m = sf/(ub - lb)\n",
    "    b = -lb*m\n",
    "    return m*x+b"
   ]
  },
  {
   "cell_type": "code",
   "execution_count": 82,
   "metadata": {},
   "outputs": [
    {
     "ename": "NameError",
     "evalue": "name 'C0varf' is not defined",
     "output_type": "error",
     "traceback": [
      "\u001b[1;31m---------------------------------------------------------------------------\u001b[0m",
      "\u001b[1;31mNameError\u001b[0m                                 Traceback (most recent call last)",
      "Cell \u001b[1;32mIn[82], line 1\u001b[0m\n\u001b[1;32m----> 1\u001b[0m \u001b[43mC0varf\u001b[49m\n",
      "\u001b[1;31mNameError\u001b[0m: name 'C0varf' is not defined"
     ]
    }
   ],
   "source": [
    "C0varf"
   ]
  },
  {
   "cell_type": "code",
   "execution_count": 19,
   "metadata": {},
   "outputs": [],
   "source": [
    "TT = train_x\n"
   ]
  },
  {
   "cell_type": "code",
   "execution_count": 20,
   "metadata": {},
   "outputs": [
    {
     "data": {
      "text/plain": [
       "torch.Size([4938, 3])"
      ]
     },
     "execution_count": 20,
     "metadata": {},
     "output_type": "execute_result"
    }
   ],
   "source": [
    "TT.shape"
   ]
  },
  {
   "cell_type": "code",
   "execution_count": 65,
   "metadata": {},
   "outputs": [
    {
     "name": "stdout",
     "output_type": "stream",
     "text": [
      "Create Statistical Reference Model...\n",
      "82.20933318138123\n"
     ]
    }
   ],
   "source": [
    "print('Create Statistical Reference Model...')\n",
    "start = time.time()\n",
    "Tmod= TT\n",
    "\n",
    "CTREF= train_y\n",
    "\n",
    "\n",
    "for i in range(1):\n",
    "    kergp = gpr.kernels.Matern(5, (1, 10), nu = 2.5)\n",
    "gprefmod = gpr.GaussianProcessRegressor(kernel = kergp,\n",
    "                                        alpha = 1e-6,\n",
    "                                        n_restarts_optimizer = 1,\n",
    "                                        normalize_y = True)\n",
    "gprefmod.fit(Tmod, CTREF)\n",
    "\n",
    "end = time.time()\n",
    "mobdtm = end-start\n",
    "print(mobdtm)"
   ]
  },
  {
   "cell_type": "code",
   "execution_count": 23,
   "metadata": {},
   "outputs": [],
   "source": [
    "# Define Parameters\n",
    "exp_w = 2.6\n",
    "#C0varf = np.loadtxt('C_var_gp.txt')\n",
    "FR = np.array([0.100, 0.075, 0.075])\n",
    "R_Frac = 1e-6\n",
    "ub = np.array([1,1,1])\n",
    "lb = np.array([0,0,0])\n",
    "bounds = Bounds(np.zeros(len(ub)), np.ones(len(ub)))\n",
    "dim = len(ub)\n",
    "kernel = gpr.kernels.Matern((1, 1), ((0.06, 5), (0.06, 5)), nu = 2.5)"
   ]
  },
  {
   "cell_type": "code",
   "execution_count": 55,
   "metadata": {},
   "outputs": [
    {
     "data": {
      "text/plain": [
       "3"
      ]
     },
     "execution_count": 55,
     "metadata": {},
     "output_type": "execute_result"
    }
   ],
   "source": [
    "dim"
   ]
  },
  {
   "cell_type": "code",
   "execution_count": 24,
   "metadata": {},
   "outputs": [
    {
     "data": {
      "text/plain": [
       "Bounds(array([0., 0., 0.]), array([1., 1., 1.]))"
      ]
     },
     "execution_count": 24,
     "metadata": {},
     "output_type": "execute_result"
    }
   ],
   "source": [
    "bounds"
   ]
  },
  {
   "cell_type": "code",
   "execution_count": 56,
   "metadata": {},
   "outputs": [],
   "source": [
    "REACOPTIM = BO_algos.BO(ub = ub,\n",
    "                        lb = lb,\n",
    "                        dim = dim,\n",
    "                        exp_w = exp_w,\n",
    "                        kernel = kernel,\n",
    "                        system = 0,\n",
    "                        bounds = bounds,\n",
    "                        )\n"
   ]
  },
  {
   "cell_type": "code",
   "execution_count": 66,
   "metadata": {},
   "outputs": [],
   "source": [
    "REACOPTIM = BO_algos.BO(ub = ub,\n",
    "                        lb = lb,\n",
    "                        dim = dim,\n",
    "                        exp_w = exp_w,\n",
    "                        kernel = kernel,\n",
    "                        system = SYST_C,\n",
    "                        bounds = bounds,\n",
    "                        **{'refmod': SYST_C_REFGP,\n",
    "                           'distmod': SYST_C_DIST,\n",
    "                           'ref_distmod': SYST_C_DISTGP,\n",
    "                           'ref_distmod1': SYST_C_REF1,\n",
    "                           'ref_distmod2': SYST_C_REF2})\n"
   ]
  },
  {
   "cell_type": "code",
   "execution_count": 67,
   "metadata": {},
   "outputs": [
    {
     "name": "stdout",
     "output_type": "stream",
     "text": [
      "Shape of scaled_output: (4938, 3)\n"
     ]
    }
   ],
   "source": [
    "scaled_output = REACOPTIM.scale(np.zeros(train_x.shape))\n",
    "print(\"Shape of scaled_output:\", scaled_output.shape)\n"
   ]
  },
  {
   "cell_type": "code",
   "execution_count": 89,
   "metadata": {},
   "outputs": [],
   "source": [
    "## VP-BO intial points\n",
    "lim_init = REACOPTIM.scale(np.zeros(train_x[1].shape))\n",
    "\n",
    "\n",
    "# Run_BO\n",
    "trials_seq = 1000\n",
    "trials_par1 = 3\n",
    "trials_par2 = 3\n",
    "\n",
    "x_init = np.linspace(bounds.lb, bounds.ub, 5)\n",
    "x_init = np.meshgrid(*x_init.T)\n",
    "x_init = np.reshape(x_init, (dim, -1)).T"
   ]
  },
  {
   "cell_type": "code",
   "execution_count": 90,
   "metadata": {},
   "outputs": [],
   "source": [
    "x_init = test_x"
   ]
  },
  {
   "cell_type": "code",
   "execution_count": 91,
   "metadata": {},
   "outputs": [
    {
     "data": {
      "text/plain": [
       "torch.Size([3704, 3])"
      ]
     },
     "execution_count": 91,
     "metadata": {},
     "output_type": "execute_result"
    }
   ],
   "source": [
    "x_init.shape"
   ]
  },
  {
   "cell_type": "code",
   "execution_count": 71,
   "metadata": {},
   "outputs": [],
   "source": [
    "MET_VPBO1 = np.zeros((trials_par2, 4))\n",
    "PARAMS_VPBO1 = np.ones(x_init.shape)\n",
    "DIST_VPBO1 = np.array([]).reshape(0, dim)\n",
    "RES_VPBO1 = np.ones((MET_VPBO1.shape[0], x_init.shape[0]))\n"
   ]
  },
  {
   "cell_type": "code",
   "execution_count": 92,
   "metadata": {},
   "outputs": [
    {
     "name": "stdout",
     "output_type": "stream",
     "text": [
      "Variable Partitioned BO run...\n"
     ]
    },
    {
     "ename": "ValueError",
     "evalue": "cannot reshape array of size 3 into shape (1,2)",
     "output_type": "error",
     "traceback": [
      "\u001b[1;31m---------------------------------------------------------------------------\u001b[0m",
      "\u001b[1;31m_RemoteTraceback\u001b[0m                          Traceback (most recent call last)",
      "\u001b[1;31m_RemoteTraceback\u001b[0m: \n\"\"\"\nTraceback (most recent call last):\n  File \"C:\\Users\\saadr\\AppData\\Local\\Packages\\PythonSoftwareFoundation.Python.3.11_qbz5n2kfra8p0\\LocalCache\\local-packages\\Python311\\site-packages\\joblib\\externals\\loky\\process_executor.py\", line 463, in _process_worker\n    r = call_item()\n        ^^^^^^^^^^^\n  File \"C:\\Users\\saadr\\AppData\\Local\\Packages\\PythonSoftwareFoundation.Python.3.11_qbz5n2kfra8p0\\LocalCache\\local-packages\\Python311\\site-packages\\joblib\\externals\\loky\\process_executor.py\", line 291, in __call__\n    return self.fn(*self.args, **self.kwargs)\n           ^^^^^^^^^^^^^^^^^^^^^^^^^^^^^^^^^^\n  File \"C:\\Users\\saadr\\AppData\\Local\\Packages\\PythonSoftwareFoundation.Python.3.11_qbz5n2kfra8p0\\LocalCache\\local-packages\\Python311\\site-packages\\joblib\\parallel.py\", line 598, in __call__\n    return [func(*args, **kwargs)\n           ^^^^^^^^^^^^^^^^^^^^^^\n  File \"C:\\Users\\saadr\\AppData\\Local\\Packages\\PythonSoftwareFoundation.Python.3.11_qbz5n2kfra8p0\\LocalCache\\local-packages\\Python311\\site-packages\\joblib\\parallel.py\", line 598, in <listcomp>\n    return [func(*args, **kwargs)\n            ^^^^^^^^^^^^^^^^^^^^^\n  File \"C:\\Users\\saadr\\AppData\\Local\\Temp\\ipykernel_15276\\3474253743.py\", line 11, in SYST_C_DIST\n  File \"c:\\Users\\saadr\\Desktop\\Parallel\\Parallel_BO_algos\\RXTR_SYSTEM.py\", line 423, in SYST_RECYCLE\n    T = T.reshape(int(T.shape[0]/2), 2)\n        ^^^^^^^^^^^^^^^^^^^^^^^^^^^^^^^\nValueError: cannot reshape array of size 3 into shape (1,2)\n\"\"\"",
      "\nThe above exception was the direct cause of the following exception:\n",
      "\u001b[1;31mValueError\u001b[0m                                Traceback (most recent call last)",
      "Cell \u001b[1;32mIn[92], line 4\u001b[0m\n\u001b[0;32m      2\u001b[0m \u001b[38;5;28;01mfor\u001b[39;00m i, x_0 \u001b[38;5;129;01min\u001b[39;00m \u001b[38;5;28menumerate\u001b[39m(x_init):\n\u001b[0;32m      3\u001b[0m     start \u001b[38;5;241m=\u001b[39m time\u001b[38;5;241m.\u001b[39mtime()\n\u001b[1;32m----> 4\u001b[0m     \u001b[43mREACOPTIM\u001b[49m\u001b[38;5;241;43m.\u001b[39;49m\u001b[43moptimizer_vpbo\u001b[49m\u001b[43m(\u001b[49m\u001b[43mtrials\u001b[49m\u001b[43m \u001b[49m\u001b[38;5;241;43m=\u001b[39;49m\u001b[43m \u001b[49m\u001b[43mtrials_par2\u001b[49m\u001b[43m,\u001b[49m\n\u001b[0;32m      5\u001b[0m \u001b[43m                             \u001b[49m\u001b[43msplit_num\u001b[49m\u001b[43m \u001b[49m\u001b[38;5;241;43m=\u001b[39;49m\u001b[43m \u001b[49m\u001b[38;5;241;43m3\u001b[39;49m\u001b[43m,\u001b[49m\n\u001b[0;32m      6\u001b[0m \u001b[43m                             \u001b[49m\u001b[43mlim_init\u001b[49m\u001b[43m \u001b[49m\u001b[38;5;241;43m=\u001b[39;49m\u001b[43m \u001b[49m\u001b[43mlim_init\u001b[49m\u001b[43m,\u001b[49m\n\u001b[0;32m      7\u001b[0m \u001b[43m                             \u001b[49m\u001b[43mf_cores\u001b[49m\u001b[43m \u001b[49m\u001b[38;5;241;43m=\u001b[39;49m\u001b[38;5;241;43m3\u001b[39;49m\u001b[43m,\u001b[49m\n\u001b[0;32m      8\u001b[0m \u001b[43m                             \u001b[49m\u001b[43maf_cores\u001b[49m\u001b[43m \u001b[49m\u001b[38;5;241;43m=\u001b[39;49m\u001b[43m \u001b[49m\u001b[38;5;241;43m1\u001b[39;49m\u001b[43m,\u001b[49m\n\u001b[0;32m      9\u001b[0m \u001b[43m                             \u001b[49m\u001b[43mref_cores\u001b[49m\u001b[43m \u001b[49m\u001b[38;5;241;43m=\u001b[39;49m\u001b[43m \u001b[49m\u001b[38;5;241;43m1\u001b[39;49m\u001b[43m,\u001b[49m\n\u001b[0;32m     10\u001b[0m \u001b[43m                             \u001b[49m\u001b[43mx_init\u001b[49m\u001b[43m  \u001b[49m\u001b[38;5;241;43m=\u001b[39;49m\u001b[43m \u001b[49m\u001b[43mx_0\u001b[49m\u001b[43m)\u001b[49m\n\u001b[0;32m     11\u001b[0m     end \u001b[38;5;241m=\u001b[39m time\u001b[38;5;241m.\u001b[39mtime()\n\u001b[0;32m     12\u001b[0m     \u001b[38;5;28mprint\u001b[39m(\u001b[38;5;124m'\u001b[39m\u001b[38;5;124mRun time \u001b[39m\u001b[38;5;124m'\u001b[39m\u001b[38;5;241m+\u001b[39m\u001b[38;5;28mstr\u001b[39m(end\u001b[38;5;241m-\u001b[39mstart)\u001b[38;5;241m+\u001b[39m\u001b[38;5;124m'\u001b[39m\u001b[38;5;124ms\u001b[39m\u001b[38;5;124m'\u001b[39m)\n",
      "File \u001b[1;32mc:\\Users\\saadr\\Desktop\\Parallel\\Parallel_BO_algos\\Parallel_Algos.py:1036\u001b[0m, in \u001b[0;36mBO.optimizer_vpbo\u001b[1;34m(self, trials, split_num, lim_init, f_cores, af_cores, ref_cores, x_init)\u001b[0m\n\u001b[0;32m   1033\u001b[0m     x_bs[\u001b[38;5;241m-\u001b[39m\u001b[38;5;241m1\u001b[39m] \u001b[38;5;241m=\u001b[39m x[(i\u001b[38;5;241m+\u001b[39m\u001b[38;5;241m1\u001b[39m)\u001b[38;5;241m*\u001b[39msplt:, :]\n\u001b[0;32m   1035\u001b[0m start_f \u001b[38;5;241m=\u001b[39m time\u001b[38;5;241m.\u001b[39mtime()\n\u001b[1;32m-> 1036\u001b[0m y \u001b[38;5;241m=\u001b[39m \u001b[43mParallel\u001b[49m\u001b[43m(\u001b[49m\u001b[43mn_jobs\u001b[49m\u001b[43m \u001b[49m\u001b[38;5;241;43m=\u001b[39;49m\u001b[43m \u001b[49m\u001b[43mf_cores\u001b[49m\u001b[43m)\u001b[49m\u001b[43m(\u001b[49m\u001b[43mdelayed\u001b[49m\u001b[43m(\u001b[49m\u001b[38;5;28;43mself\u001b[39;49m\u001b[38;5;241;43m.\u001b[39;49m\u001b[43mdistmod\u001b[49m\u001b[43m)\u001b[49m\u001b[43m(\u001b[49m\u001b[38;5;28;43mself\u001b[39;49m\u001b[38;5;241;43m.\u001b[39;49m\u001b[43mdescale\u001b[49m\u001b[43m(\u001b[49m\u001b[43mx_s\u001b[49m\u001b[43m)\u001b[49m\u001b[43m,\u001b[49m\u001b[43m \u001b[49m\u001b[38;5;241;43m*\u001b[39;49m\u001b[38;5;28;43mself\u001b[39;49m\u001b[38;5;241;43m.\u001b[39;49m\u001b[43margs\u001b[49m\u001b[43m)\u001b[49m\n\u001b[0;32m   1037\u001b[0m \u001b[43m                               \u001b[49m\u001b[38;5;28;43;01mfor\u001b[39;49;00m\u001b[43m \u001b[49m\u001b[43mx_s\u001b[49m\u001b[43m \u001b[49m\u001b[38;5;129;43;01min\u001b[39;49;00m\u001b[43m \u001b[49m\u001b[43mx_bs\u001b[49m\u001b[43m)\u001b[49m\n\u001b[0;32m   1038\u001b[0m \u001b[38;5;28;01mif\u001b[39;00m \u001b[38;5;28mstr\u001b[39m(\u001b[38;5;28mtype\u001b[39m(ref_mod))\u001b[38;5;241m==\u001b[39m\u001b[38;5;124m\"\u001b[39m\u001b[38;5;124m<class \u001b[39m\u001b[38;5;124m'\u001b[39m\u001b[38;5;124m__main__.Network\u001b[39m\u001b[38;5;124m'\u001b[39m\u001b[38;5;124m>\u001b[39m\u001b[38;5;124m\"\u001b[39m:\n\u001b[0;32m   1039\u001b[0m     y_ref \u001b[38;5;241m=\u001b[39m Parallel(n_jobs \u001b[38;5;241m=\u001b[39m ref_cores)(delayed(ref_mod)(x_s, \u001b[38;5;241m*\u001b[39m\u001b[38;5;28mself\u001b[39m\u001b[38;5;241m.\u001b[39mref_args)\n\u001b[0;32m   1040\u001b[0m                                          \u001b[38;5;28;01mfor\u001b[39;00m x_s \u001b[38;5;129;01min\u001b[39;00m torch\u001b[38;5;241m.\u001b[39mfrom_numpy(x)\u001b[38;5;241m.\u001b[39mfloat())\n",
      "File \u001b[1;32m~\\AppData\\Local\\Packages\\PythonSoftwareFoundation.Python.3.11_qbz5n2kfra8p0\\LocalCache\\local-packages\\Python311\\site-packages\\joblib\\parallel.py:2007\u001b[0m, in \u001b[0;36mParallel.__call__\u001b[1;34m(self, iterable)\u001b[0m\n\u001b[0;32m   2001\u001b[0m \u001b[38;5;66;03m# The first item from the output is blank, but it makes the interpreter\u001b[39;00m\n\u001b[0;32m   2002\u001b[0m \u001b[38;5;66;03m# progress until it enters the Try/Except block of the generator and\u001b[39;00m\n\u001b[0;32m   2003\u001b[0m \u001b[38;5;66;03m# reaches the first `yield` statement. This starts the asynchronous\u001b[39;00m\n\u001b[0;32m   2004\u001b[0m \u001b[38;5;66;03m# dispatch of the tasks to the workers.\u001b[39;00m\n\u001b[0;32m   2005\u001b[0m \u001b[38;5;28mnext\u001b[39m(output)\n\u001b[1;32m-> 2007\u001b[0m \u001b[38;5;28;01mreturn\u001b[39;00m output \u001b[38;5;28;01mif\u001b[39;00m \u001b[38;5;28mself\u001b[39m\u001b[38;5;241m.\u001b[39mreturn_generator \u001b[38;5;28;01melse\u001b[39;00m \u001b[38;5;28mlist\u001b[39m(output)\n",
      "File \u001b[1;32m~\\AppData\\Local\\Packages\\PythonSoftwareFoundation.Python.3.11_qbz5n2kfra8p0\\LocalCache\\local-packages\\Python311\\site-packages\\joblib\\parallel.py:1650\u001b[0m, in \u001b[0;36mParallel._get_outputs\u001b[1;34m(self, iterator, pre_dispatch)\u001b[0m\n\u001b[0;32m   1647\u001b[0m     \u001b[38;5;28;01myield\u001b[39;00m\n\u001b[0;32m   1649\u001b[0m     \u001b[38;5;28;01mwith\u001b[39;00m \u001b[38;5;28mself\u001b[39m\u001b[38;5;241m.\u001b[39m_backend\u001b[38;5;241m.\u001b[39mretrieval_context():\n\u001b[1;32m-> 1650\u001b[0m         \u001b[38;5;28;01myield from\u001b[39;00m \u001b[38;5;28mself\u001b[39m\u001b[38;5;241m.\u001b[39m_retrieve()\n\u001b[0;32m   1652\u001b[0m \u001b[38;5;28;01mexcept\u001b[39;00m \u001b[38;5;167;01mGeneratorExit\u001b[39;00m:\n\u001b[0;32m   1653\u001b[0m     \u001b[38;5;66;03m# The generator has been garbage collected before being fully\u001b[39;00m\n\u001b[0;32m   1654\u001b[0m     \u001b[38;5;66;03m# consumed. This aborts the remaining tasks if possible and warn\u001b[39;00m\n\u001b[0;32m   1655\u001b[0m     \u001b[38;5;66;03m# the user if necessary.\u001b[39;00m\n\u001b[0;32m   1656\u001b[0m     \u001b[38;5;28mself\u001b[39m\u001b[38;5;241m.\u001b[39m_exception \u001b[38;5;241m=\u001b[39m \u001b[38;5;28;01mTrue\u001b[39;00m\n",
      "File \u001b[1;32m~\\AppData\\Local\\Packages\\PythonSoftwareFoundation.Python.3.11_qbz5n2kfra8p0\\LocalCache\\local-packages\\Python311\\site-packages\\joblib\\parallel.py:1754\u001b[0m, in \u001b[0;36mParallel._retrieve\u001b[1;34m(self)\u001b[0m\n\u001b[0;32m   1747\u001b[0m \u001b[38;5;28;01mwhile\u001b[39;00m \u001b[38;5;28mself\u001b[39m\u001b[38;5;241m.\u001b[39m_wait_retrieval():\n\u001b[0;32m   1748\u001b[0m \n\u001b[0;32m   1749\u001b[0m     \u001b[38;5;66;03m# If the callback thread of a worker has signaled that its task\u001b[39;00m\n\u001b[0;32m   1750\u001b[0m     \u001b[38;5;66;03m# triggered an exception, or if the retrieval loop has raised an\u001b[39;00m\n\u001b[0;32m   1751\u001b[0m     \u001b[38;5;66;03m# exception (e.g. `GeneratorExit`), exit the loop and surface the\u001b[39;00m\n\u001b[0;32m   1752\u001b[0m     \u001b[38;5;66;03m# worker traceback.\u001b[39;00m\n\u001b[0;32m   1753\u001b[0m     \u001b[38;5;28;01mif\u001b[39;00m \u001b[38;5;28mself\u001b[39m\u001b[38;5;241m.\u001b[39m_aborting:\n\u001b[1;32m-> 1754\u001b[0m         \u001b[38;5;28;43mself\u001b[39;49m\u001b[38;5;241;43m.\u001b[39;49m\u001b[43m_raise_error_fast\u001b[49m\u001b[43m(\u001b[49m\u001b[43m)\u001b[49m\n\u001b[0;32m   1755\u001b[0m         \u001b[38;5;28;01mbreak\u001b[39;00m\n\u001b[0;32m   1757\u001b[0m     \u001b[38;5;66;03m# If the next job is not ready for retrieval yet, we just wait for\u001b[39;00m\n\u001b[0;32m   1758\u001b[0m     \u001b[38;5;66;03m# async callbacks to progress.\u001b[39;00m\n",
      "File \u001b[1;32m~\\AppData\\Local\\Packages\\PythonSoftwareFoundation.Python.3.11_qbz5n2kfra8p0\\LocalCache\\local-packages\\Python311\\site-packages\\joblib\\parallel.py:1789\u001b[0m, in \u001b[0;36mParallel._raise_error_fast\u001b[1;34m(self)\u001b[0m\n\u001b[0;32m   1785\u001b[0m \u001b[38;5;66;03m# If this error job exists, immediately raise the error by\u001b[39;00m\n\u001b[0;32m   1786\u001b[0m \u001b[38;5;66;03m# calling get_result. This job might not exists if abort has been\u001b[39;00m\n\u001b[0;32m   1787\u001b[0m \u001b[38;5;66;03m# called directly or if the generator is gc'ed.\u001b[39;00m\n\u001b[0;32m   1788\u001b[0m \u001b[38;5;28;01mif\u001b[39;00m error_job \u001b[38;5;129;01mis\u001b[39;00m \u001b[38;5;129;01mnot\u001b[39;00m \u001b[38;5;28;01mNone\u001b[39;00m:\n\u001b[1;32m-> 1789\u001b[0m     \u001b[43merror_job\u001b[49m\u001b[38;5;241;43m.\u001b[39;49m\u001b[43mget_result\u001b[49m\u001b[43m(\u001b[49m\u001b[38;5;28;43mself\u001b[39;49m\u001b[38;5;241;43m.\u001b[39;49m\u001b[43mtimeout\u001b[49m\u001b[43m)\u001b[49m\n",
      "File \u001b[1;32m~\\AppData\\Local\\Packages\\PythonSoftwareFoundation.Python.3.11_qbz5n2kfra8p0\\LocalCache\\local-packages\\Python311\\site-packages\\joblib\\parallel.py:745\u001b[0m, in \u001b[0;36mBatchCompletionCallBack.get_result\u001b[1;34m(self, timeout)\u001b[0m\n\u001b[0;32m    739\u001b[0m backend \u001b[38;5;241m=\u001b[39m \u001b[38;5;28mself\u001b[39m\u001b[38;5;241m.\u001b[39mparallel\u001b[38;5;241m.\u001b[39m_backend\n\u001b[0;32m    741\u001b[0m \u001b[38;5;28;01mif\u001b[39;00m backend\u001b[38;5;241m.\u001b[39msupports_retrieve_callback:\n\u001b[0;32m    742\u001b[0m     \u001b[38;5;66;03m# We assume that the result has already been retrieved by the\u001b[39;00m\n\u001b[0;32m    743\u001b[0m     \u001b[38;5;66;03m# callback thread, and is stored internally. It's just waiting to\u001b[39;00m\n\u001b[0;32m    744\u001b[0m     \u001b[38;5;66;03m# be returned.\u001b[39;00m\n\u001b[1;32m--> 745\u001b[0m     \u001b[38;5;28;01mreturn\u001b[39;00m \u001b[38;5;28;43mself\u001b[39;49m\u001b[38;5;241;43m.\u001b[39;49m\u001b[43m_return_or_raise\u001b[49m\u001b[43m(\u001b[49m\u001b[43m)\u001b[49m\n\u001b[0;32m    747\u001b[0m \u001b[38;5;66;03m# For other backends, the main thread needs to run the retrieval step.\u001b[39;00m\n\u001b[0;32m    748\u001b[0m \u001b[38;5;28;01mtry\u001b[39;00m:\n",
      "File \u001b[1;32m~\\AppData\\Local\\Packages\\PythonSoftwareFoundation.Python.3.11_qbz5n2kfra8p0\\LocalCache\\local-packages\\Python311\\site-packages\\joblib\\parallel.py:763\u001b[0m, in \u001b[0;36mBatchCompletionCallBack._return_or_raise\u001b[1;34m(self)\u001b[0m\n\u001b[0;32m    761\u001b[0m \u001b[38;5;28;01mtry\u001b[39;00m:\n\u001b[0;32m    762\u001b[0m     \u001b[38;5;28;01mif\u001b[39;00m \u001b[38;5;28mself\u001b[39m\u001b[38;5;241m.\u001b[39mstatus \u001b[38;5;241m==\u001b[39m TASK_ERROR:\n\u001b[1;32m--> 763\u001b[0m         \u001b[38;5;28;01mraise\u001b[39;00m \u001b[38;5;28mself\u001b[39m\u001b[38;5;241m.\u001b[39m_result\n\u001b[0;32m    764\u001b[0m     \u001b[38;5;28;01mreturn\u001b[39;00m \u001b[38;5;28mself\u001b[39m\u001b[38;5;241m.\u001b[39m_result\n\u001b[0;32m    765\u001b[0m \u001b[38;5;28;01mfinally\u001b[39;00m:\n",
      "\u001b[1;31mValueError\u001b[0m: cannot reshape array of size 3 into shape (1,2)"
     ]
    }
   ],
   "source": [
    "## VP-BO \n",
    "for i, x_0 in enumerate(x_init):\n",
    "    start = time.time()\n",
    "    REACOPTIM.optimizer_vpbo(trials = trials_par2,\n",
    "                             split_num = 3,\n",
    "                             lim_init = lim_init,\n",
    "                             f_cores =3,\n",
    "                             af_cores = 1,\n",
    "                             ref_cores = 1,\n",
    "                             x_init  = x_0)\n",
    "    end = time.time()\n",
    "    print('Run time '+str(end-start)+'s')\n",
    "    print('iteration '+str(i+1))\n",
    "    MET_VPBO1[:, 0] += REACOPTIM.time_vp.flatten()\n",
    "    MET_VPBO1[:, 1] += REACOPTIM.time_fvp.flatten()\n",
    "    MET_VPBO1[:, 2] += REACOPTIM.y_vpbst[:, -1].flatten()\n",
    "    MET_VPBO1[:, 3] += np.min(REACOPTIM.y_vpbst[:, -1])\n",
    "    print('Best VP-BO value is '+str(np.min(REACOPTIM.y_vpbst[:, -1])))\n",
    "    PARAMS_VPBO1[i] = REACOPTIM.x_vp[np.argmin(REACOPTIM.y_vp[:, -1])]\n",
    "    DIST_VPBO1 = np.vstack([DIST_VPBO1, REACOPTIM.x_vp])\n",
    "    RES_VPBO1[:, i] = REACOPTIM.y_vpbst[:, -1]\n",
    "MET_VPBO1[:, 0] = MET_VPBO1[:, 0]/(i+1)\n",
    "MET_VPBO1[:, 1] = MET_VPBO1[:, 1]/(i+1)\n",
    "MET_VPBO1[:, 2] = MET_VPBO1[:, 2]/(i+1)\n",
    "MET_VPBO1[:, 3] = MET_VPBO1[:, 3]/(i+1)\n",
    "REACOPTIM.y_vpbst = MET_VPBO1[:, 2].reshape(-1, 1)\n",
    "REACOPTIM.time_vp = MET_VPBO1[:, 0].flatten()\n",
    "REACOPTIM.time_fvp = MET_VPBO1[:, 1].flatten()"
   ]
  },
  {
   "cell_type": "code",
   "execution_count": 78,
   "metadata": {},
   "outputs": [
    {
     "data": {
      "text/plain": [
       "array([0., 0., 0.])"
      ]
     },
     "execution_count": 78,
     "metadata": {},
     "output_type": "execute_result"
    }
   ],
   "source": [
    "lim_init"
   ]
  },
  {
   "cell_type": "code",
   "execution_count": 79,
   "metadata": {},
   "outputs": [
    {
     "data": {
      "text/plain": [
       "array([[1., 1., 1.],\n",
       "       [1., 1., 1.],\n",
       "       [1., 1., 1.]])"
      ]
     },
     "execution_count": 79,
     "metadata": {},
     "output_type": "execute_result"
    }
   ],
   "source": [
    "np.ones((3, 3))"
   ]
  },
  {
   "cell_type": "code",
   "execution_count": 81,
   "metadata": {},
   "outputs": [
    {
     "data": {
      "text/plain": [
       "array([[0., 0., 0.],\n",
       "       [0., 0., 0.],\n",
       "       [0., 0., 0.]])"
      ]
     },
     "execution_count": 81,
     "metadata": {},
     "output_type": "execute_result"
    }
   ],
   "source": [
    "x = lim_init*np.ones((3, 3))\n",
    "x"
   ]
  },
  {
   "cell_type": "code",
   "execution_count": null,
   "metadata": {},
   "outputs": [],
   "source": []
  }
 ],
 "metadata": {
  "kernelspec": {
   "display_name": "Python 3",
   "language": "python",
   "name": "python3"
  },
  "language_info": {
   "codemirror_mode": {
    "name": "ipython",
    "version": 3
   },
   "file_extension": ".py",
   "mimetype": "text/x-python",
   "name": "python",
   "nbconvert_exporter": "python",
   "pygments_lexer": "ipython3",
   "version": "3.11.9"
  }
 },
 "nbformat": 4,
 "nbformat_minor": 2
}
